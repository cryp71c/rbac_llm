{
 "cells": [
  {
   "cell_type": "code",
   "execution_count": null,
   "metadata": {},
   "outputs": [],
   "source": [
    "from transformers import AutoTokenizer, AutoModelForCausalLM, Trainer, TrainingArguments\n",
    "from datasets import Dataset\n",
    "import pandas as pd\n",
    "\n",
    "# Paths to your CSV files\n",
    "csv_file_path1 = 'data\\\\permissions.csv'\n",
    "\n",
    "# Load the CSV files\n",
    "df = pd.read_csv(csv_file_path1)\n",
    "\n",
    "# Initialize the tokenizer and model\n",
    "tokenizer = AutoTokenizer.from_pretrained('gpt2')\n",
    "model = AutoModelForCausalLM.from_pretrained('gpt2')\n",
    "\n",
    "# Add padding token (GPT-2 does not have a pad token by default)\n",
    "tokenizer.pad_token = tokenizer.eos_token\n",
    "\n",
    "# Preprocess the data\n",
    "def preprocess_function(df):\n",
    "    texts = [f\"Identity: {row['IdentityReference']}, Access Control: {row['AccessControlType']}, Rights: {row['FileSystemRights']}, Inherited: {row['IsInherited']}\" for index, row in df.iterrows()]\n",
    "    encodings = tokenizer(texts, padding=\"max_length\", truncation=True, return_tensors=\"pt\", max_length=1024)\n",
    "    \n",
    "    # GPT-2 needs labels to be the same as the input_ids for causal language modeling\n",
    "    encodings['labels'] = encodings['input_ids'].clone()  # Set labels equal to input_ids\n",
    "    return encodings\n",
    "\n",
    "# Apply preprocessing\n",
    "tokenized_data = preprocess_function(df)\n",
    "\n",
    "# Convert to Hugging Face Dataset format\n",
    "dataset = Dataset.from_dict({\n",
    "    'input_ids': tokenized_data['input_ids'].tolist(),\n",
    "    'attention_mask': tokenized_data['attention_mask'].tolist(),\n",
    "    'labels': tokenized_data['labels'].tolist()  # Include labels for loss computation\n",
    "})\n",
    "\n",
    "# Split the dataset into training and validation sets using datasets library\n",
    "dataset_dict = dataset.train_test_split(test_size=0.1)\n",
    "\n",
    "# Set up training arguments (updated to use `eval_strategy`)\n",
    "training_args = TrainingArguments(\n",
    "    output_dir=\"result\",\n",
    "    save_strategy=\"no\",\n",
    "    eval_strategy=\"epoch\",  # Update to use `eval_strategy`\n",
    "    per_device_train_batch_size=4,  # Adjust batch size as needed\n",
    "    per_device_eval_batch_size=4,\n",
    "    num_train_epochs=4,  # Adjust number of epochs as needed\n",
    "    logging_dir=\"log\",\n",
    "    logging_steps=10\n",
    ")\n",
    "\n",
    "# Initialize the Trainer\n",
    "trainer = Trainer(\n",
    "    model=model,\n",
    "    args=training_args,\n",
    "    train_dataset=dataset_dict['train'],\n",
    "    eval_dataset=dataset_dict['test'],\n",
    ")\n",
    "\n",
    "# Train the model\n",
    "trainer.train()"
   ]
  },
  {
   "cell_type": "code",
   "execution_count": null,
   "metadata": {},
   "outputs": [],
   "source": [
    "model.save_pretrained('result\\\\testone')\n",
    "tokenizer.save_pretrained('result\\\\testone')"
   ]
  },
  {
   "cell_type": "code",
   "execution_count": null,
   "metadata": {},
   "outputs": [],
   "source": [
    "tokenizer = AutoTokenizer.from_pretrained('result\\\\testone', local_files_only=True)\n",
    "model = AutoModelForCausalLM.from_pretrained('result\\\\testone', local_files_only=True)"
   ]
  },
  {
   "cell_type": "code",
   "execution_count": null,
   "metadata": {},
   "outputs": [],
   "source": [
    "# Use the model and tokenizer for inference\n",
    "input_text = \"Example input text for the model\"\n",
    "inputs = tokenizer(input_text, return_tensors=\"pt\")\n",
    "outputs = model.generate(**inputs)\n",
    "decoded_output = tokenizer.decode(outputs[0], skip_special_tokens=True)\n",
    "\n",
    "print(f\"Model Output: {decoded_output}\")"
   ]
  },
  {
   "cell_type": "code",
   "execution_count": null,
   "metadata": {},
   "outputs": [],
   "source": [
    "from transformers import AutoTokenizer, AutoModelForCausalLM\n",
    "\n",
    "# Load the trained model and tokenizer\n",
    "tokenizer = AutoTokenizer.from_pretrained('result/testone', local_files_only=True)\n",
    "model = AutoModelForCausalLM.from_pretrained('result/testone', local_files_only=True)\n",
    "\n",
    "# Define a function to generate a response\n",
    "def query_model(prompt, max_length=2048):\n",
    "    inputs = tokenizer(prompt, return_tensors=\"pt\")\n",
    "    outputs = model.generate(\n",
    "        inputs['input_ids'],\n",
    "        attention_mask=inputs['attention_mask'],\n",
    "        max_length=1024,  # Adjust max_length\n",
    "        num_return_sequences=1,\n",
    "        temperature=0.7,  # Adjust temperature\n",
    "        top_k=50,  # Top-K sampling\n",
    "        top_p=0.95,  # Top-P (nucleus) sampling\n",
    "        pad_token_id=tokenizer.eos_token_id,\n",
    "        repetition_penalty=1.5,  # Adjust penalty value as needed\n",
    "        eos_token_id=tokenizer.eos_token_id\n",
    "    )\n",
    "    response = tokenizer.decode(outputs[0], skip_special_tokens=True)\n",
    "    return response\n",
    "\n",
    "# Example usage\n",
    "prompt = \"list all permissions\"\n",
    "response = query_model(prompt)\n",
    "print(\"Prompt:\", prompt)\n",
    "print(\"Model Output:\", response)"
   ]
  }
 ],
 "metadata": {
  "kernelspec": {
   "display_name": "Python 3",
   "language": "python",
   "name": "python3"
  },
  "language_info": {
   "codemirror_mode": {
    "name": "ipython",
    "version": 3
   },
   "file_extension": ".py",
   "mimetype": "text/x-python",
   "name": "python",
   "nbconvert_exporter": "python",
   "pygments_lexer": "ipython3",
   "version": "3.12.5"
  }
 },
 "nbformat": 4,
 "nbformat_minor": 2
}
